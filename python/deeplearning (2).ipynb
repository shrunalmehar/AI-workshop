{
  "cells": [
    {
      "cell_type": "code",
      "execution_count": 42,
      "metadata": {
        "id": "jrEjIChHiEKD"
      },
      "outputs": [],
      "source": [
        "import numpy as np\n",
        "import pandas as pd\n",
        "import matplotlib.pyplot as plt\n",
        "from sklearn.model_selection import train_test_split\n",
        "from sklearn.preprocessing import StandardScaler\n",
        "from tensorflow.keras.models import Sequential\n",
        "from tensorflow.keras.layers import Dense"
      ]
    },
    {
      "cell_type": "code",
      "execution_count": 43,
      "metadata": {
        "colab": {
          "base_uri": "https://localhost:8080/",
          "height": 206
        },
        "id": "5tjmsvLbitUX",
        "outputId": "1d34b6d1-b326-443e-98ea-ef099971e084"
      },
      "outputs": [
        {
          "output_type": "execute_result",
          "data": {
            "text/plain": [
              "   temperature   humidity  wind_speed  solar_irradiance  energy_consumption\n",
              "0    24.363503  31.107976    5.234114        705.432695          307.398145\n",
              "1    38.767858  52.514057    4.939576        817.013257          412.444548\n",
              "2    33.299849  72.376750   18.125092        325.421109          392.072418\n",
              "3    29.966462  63.933493    4.990924        662.386690          119.254957\n",
              "4    18.900466  68.393669    5.438995        614.571385          117.162261"
            ],
            "text/html": [
              "\n",
              "  <div id=\"df-cd147020-bfa5-4147-98e2-cdfa4710f601\" class=\"colab-df-container\">\n",
              "    <div>\n",
              "<style scoped>\n",
              "    .dataframe tbody tr th:only-of-type {\n",
              "        vertical-align: middle;\n",
              "    }\n",
              "\n",
              "    .dataframe tbody tr th {\n",
              "        vertical-align: top;\n",
              "    }\n",
              "\n",
              "    .dataframe thead th {\n",
              "        text-align: right;\n",
              "    }\n",
              "</style>\n",
              "<table border=\"1\" class=\"dataframe\">\n",
              "  <thead>\n",
              "    <tr style=\"text-align: right;\">\n",
              "      <th></th>\n",
              "      <th>temperature</th>\n",
              "      <th>humidity</th>\n",
              "      <th>wind_speed</th>\n",
              "      <th>solar_irradiance</th>\n",
              "      <th>energy_consumption</th>\n",
              "    </tr>\n",
              "  </thead>\n",
              "  <tbody>\n",
              "    <tr>\n",
              "      <th>0</th>\n",
              "      <td>24.363503</td>\n",
              "      <td>31.107976</td>\n",
              "      <td>5.234114</td>\n",
              "      <td>705.432695</td>\n",
              "      <td>307.398145</td>\n",
              "    </tr>\n",
              "    <tr>\n",
              "      <th>1</th>\n",
              "      <td>38.767858</td>\n",
              "      <td>52.514057</td>\n",
              "      <td>4.939576</td>\n",
              "      <td>817.013257</td>\n",
              "      <td>412.444548</td>\n",
              "    </tr>\n",
              "    <tr>\n",
              "      <th>2</th>\n",
              "      <td>33.299849</td>\n",
              "      <td>72.376750</td>\n",
              "      <td>18.125092</td>\n",
              "      <td>325.421109</td>\n",
              "      <td>392.072418</td>\n",
              "    </tr>\n",
              "    <tr>\n",
              "      <th>3</th>\n",
              "      <td>29.966462</td>\n",
              "      <td>63.933493</td>\n",
              "      <td>4.990924</td>\n",
              "      <td>662.386690</td>\n",
              "      <td>119.254957</td>\n",
              "    </tr>\n",
              "    <tr>\n",
              "      <th>4</th>\n",
              "      <td>18.900466</td>\n",
              "      <td>68.393669</td>\n",
              "      <td>5.438995</td>\n",
              "      <td>614.571385</td>\n",
              "      <td>117.162261</td>\n",
              "    </tr>\n",
              "  </tbody>\n",
              "</table>\n",
              "</div>\n",
              "    <div class=\"colab-df-buttons\">\n",
              "\n",
              "  <div class=\"colab-df-container\">\n",
              "    <button class=\"colab-df-convert\" onclick=\"convertToInteractive('df-cd147020-bfa5-4147-98e2-cdfa4710f601')\"\n",
              "            title=\"Convert this dataframe to an interactive table.\"\n",
              "            style=\"display:none;\">\n",
              "\n",
              "  <svg xmlns=\"http://www.w3.org/2000/svg\" height=\"24px\" viewBox=\"0 -960 960 960\">\n",
              "    <path d=\"M120-120v-720h720v720H120Zm60-500h600v-160H180v160Zm220 220h160v-160H400v160Zm0 220h160v-160H400v160ZM180-400h160v-160H180v160Zm440 0h160v-160H620v160ZM180-180h160v-160H180v160Zm440 0h160v-160H620v160Z\"/>\n",
              "  </svg>\n",
              "    </button>\n",
              "\n",
              "  <style>\n",
              "    .colab-df-container {\n",
              "      display:flex;\n",
              "      gap: 12px;\n",
              "    }\n",
              "\n",
              "    .colab-df-convert {\n",
              "      background-color: #E8F0FE;\n",
              "      border: none;\n",
              "      border-radius: 50%;\n",
              "      cursor: pointer;\n",
              "      display: none;\n",
              "      fill: #1967D2;\n",
              "      height: 32px;\n",
              "      padding: 0 0 0 0;\n",
              "      width: 32px;\n",
              "    }\n",
              "\n",
              "    .colab-df-convert:hover {\n",
              "      background-color: #E2EBFA;\n",
              "      box-shadow: 0px 1px 2px rgba(60, 64, 67, 0.3), 0px 1px 3px 1px rgba(60, 64, 67, 0.15);\n",
              "      fill: #174EA6;\n",
              "    }\n",
              "\n",
              "    .colab-df-buttons div {\n",
              "      margin-bottom: 4px;\n",
              "    }\n",
              "\n",
              "    [theme=dark] .colab-df-convert {\n",
              "      background-color: #3B4455;\n",
              "      fill: #D2E3FC;\n",
              "    }\n",
              "\n",
              "    [theme=dark] .colab-df-convert:hover {\n",
              "      background-color: #434B5C;\n",
              "      box-shadow: 0px 1px 3px 1px rgba(0, 0, 0, 0.15);\n",
              "      filter: drop-shadow(0px 1px 2px rgba(0, 0, 0, 0.3));\n",
              "      fill: #FFFFFF;\n",
              "    }\n",
              "  </style>\n",
              "\n",
              "    <script>\n",
              "      const buttonEl =\n",
              "        document.querySelector('#df-cd147020-bfa5-4147-98e2-cdfa4710f601 button.colab-df-convert');\n",
              "      buttonEl.style.display =\n",
              "        google.colab.kernel.accessAllowed ? 'block' : 'none';\n",
              "\n",
              "      async function convertToInteractive(key) {\n",
              "        const element = document.querySelector('#df-cd147020-bfa5-4147-98e2-cdfa4710f601');\n",
              "        const dataTable =\n",
              "          await google.colab.kernel.invokeFunction('convertToInteractive',\n",
              "                                                    [key], {});\n",
              "        if (!dataTable) return;\n",
              "\n",
              "        const docLinkHtml = 'Like what you see? Visit the ' +\n",
              "          '<a target=\"_blank\" href=https://colab.research.google.com/notebooks/data_table.ipynb>data table notebook</a>'\n",
              "          + ' to learn more about interactive tables.';\n",
              "        element.innerHTML = '';\n",
              "        dataTable['output_type'] = 'display_data';\n",
              "        await google.colab.output.renderOutput(dataTable, element);\n",
              "        const docLink = document.createElement('div');\n",
              "        docLink.innerHTML = docLinkHtml;\n",
              "        element.appendChild(docLink);\n",
              "      }\n",
              "    </script>\n",
              "  </div>\n",
              "\n",
              "\n",
              "<div id=\"df-4370e458-6202-4763-a09b-642fc80b8719\">\n",
              "  <button class=\"colab-df-quickchart\" onclick=\"quickchart('df-4370e458-6202-4763-a09b-642fc80b8719')\"\n",
              "            title=\"Suggest charts\"\n",
              "            style=\"display:none;\">\n",
              "\n",
              "<svg xmlns=\"http://www.w3.org/2000/svg\" height=\"24px\"viewBox=\"0 0 24 24\"\n",
              "     width=\"24px\">\n",
              "    <g>\n",
              "        <path d=\"M19 3H5c-1.1 0-2 .9-2 2v14c0 1.1.9 2 2 2h14c1.1 0 2-.9 2-2V5c0-1.1-.9-2-2-2zM9 17H7v-7h2v7zm4 0h-2V7h2v10zm4 0h-2v-4h2v4z\"/>\n",
              "    </g>\n",
              "</svg>\n",
              "  </button>\n",
              "\n",
              "<style>\n",
              "  .colab-df-quickchart {\n",
              "      --bg-color: #E8F0FE;\n",
              "      --fill-color: #1967D2;\n",
              "      --hover-bg-color: #E2EBFA;\n",
              "      --hover-fill-color: #174EA6;\n",
              "      --disabled-fill-color: #AAA;\n",
              "      --disabled-bg-color: #DDD;\n",
              "  }\n",
              "\n",
              "  [theme=dark] .colab-df-quickchart {\n",
              "      --bg-color: #3B4455;\n",
              "      --fill-color: #D2E3FC;\n",
              "      --hover-bg-color: #434B5C;\n",
              "      --hover-fill-color: #FFFFFF;\n",
              "      --disabled-bg-color: #3B4455;\n",
              "      --disabled-fill-color: #666;\n",
              "  }\n",
              "\n",
              "  .colab-df-quickchart {\n",
              "    background-color: var(--bg-color);\n",
              "    border: none;\n",
              "    border-radius: 50%;\n",
              "    cursor: pointer;\n",
              "    display: none;\n",
              "    fill: var(--fill-color);\n",
              "    height: 32px;\n",
              "    padding: 0;\n",
              "    width: 32px;\n",
              "  }\n",
              "\n",
              "  .colab-df-quickchart:hover {\n",
              "    background-color: var(--hover-bg-color);\n",
              "    box-shadow: 0 1px 2px rgba(60, 64, 67, 0.3), 0 1px 3px 1px rgba(60, 64, 67, 0.15);\n",
              "    fill: var(--button-hover-fill-color);\n",
              "  }\n",
              "\n",
              "  .colab-df-quickchart-complete:disabled,\n",
              "  .colab-df-quickchart-complete:disabled:hover {\n",
              "    background-color: var(--disabled-bg-color);\n",
              "    fill: var(--disabled-fill-color);\n",
              "    box-shadow: none;\n",
              "  }\n",
              "\n",
              "  .colab-df-spinner {\n",
              "    border: 2px solid var(--fill-color);\n",
              "    border-color: transparent;\n",
              "    border-bottom-color: var(--fill-color);\n",
              "    animation:\n",
              "      spin 1s steps(1) infinite;\n",
              "  }\n",
              "\n",
              "  @keyframes spin {\n",
              "    0% {\n",
              "      border-color: transparent;\n",
              "      border-bottom-color: var(--fill-color);\n",
              "      border-left-color: var(--fill-color);\n",
              "    }\n",
              "    20% {\n",
              "      border-color: transparent;\n",
              "      border-left-color: var(--fill-color);\n",
              "      border-top-color: var(--fill-color);\n",
              "    }\n",
              "    30% {\n",
              "      border-color: transparent;\n",
              "      border-left-color: var(--fill-color);\n",
              "      border-top-color: var(--fill-color);\n",
              "      border-right-color: var(--fill-color);\n",
              "    }\n",
              "    40% {\n",
              "      border-color: transparent;\n",
              "      border-right-color: var(--fill-color);\n",
              "      border-top-color: var(--fill-color);\n",
              "    }\n",
              "    60% {\n",
              "      border-color: transparent;\n",
              "      border-right-color: var(--fill-color);\n",
              "    }\n",
              "    80% {\n",
              "      border-color: transparent;\n",
              "      border-right-color: var(--fill-color);\n",
              "      border-bottom-color: var(--fill-color);\n",
              "    }\n",
              "    90% {\n",
              "      border-color: transparent;\n",
              "      border-bottom-color: var(--fill-color);\n",
              "    }\n",
              "  }\n",
              "</style>\n",
              "\n",
              "  <script>\n",
              "    async function quickchart(key) {\n",
              "      const quickchartButtonEl =\n",
              "        document.querySelector('#' + key + ' button');\n",
              "      quickchartButtonEl.disabled = true;  // To prevent multiple clicks.\n",
              "      quickchartButtonEl.classList.add('colab-df-spinner');\n",
              "      try {\n",
              "        const charts = await google.colab.kernel.invokeFunction(\n",
              "            'suggestCharts', [key], {});\n",
              "      } catch (error) {\n",
              "        console.error('Error during call to suggestCharts:', error);\n",
              "      }\n",
              "      quickchartButtonEl.classList.remove('colab-df-spinner');\n",
              "      quickchartButtonEl.classList.add('colab-df-quickchart-complete');\n",
              "    }\n",
              "    (() => {\n",
              "      let quickchartButtonEl =\n",
              "        document.querySelector('#df-4370e458-6202-4763-a09b-642fc80b8719 button');\n",
              "      quickchartButtonEl.style.display =\n",
              "        google.colab.kernel.accessAllowed ? 'block' : 'none';\n",
              "    })();\n",
              "  </script>\n",
              "</div>\n",
              "\n",
              "    </div>\n",
              "  </div>\n"
            ],
            "application/vnd.google.colaboratory.intrinsic+json": {
              "type": "dataframe",
              "variable_name": "data",
              "summary": "{\n  \"name\": \"data\",\n  \"rows\": 1000,\n  \"fields\": [\n    {\n      \"column\": \"temperature\",\n      \"properties\": {\n        \"dtype\": \"number\",\n        \"std\": 7.303434048687154,\n        \"min\": 15.115800575115072,\n        \"max\": 39.992941832153264,\n        \"num_unique_values\": 1000,\n        \"samples\": [\n          24.52227141577554,\n          35.41498598678943,\n          26.56699464174016\n        ],\n        \"semantic_type\": \"\",\n        \"description\": \"\"\n      }\n    },\n    {\n      \"column\": \"humidity\",\n      \"properties\": {\n        \"dtype\": \"number\",\n        \"std\": 17.531393604189343,\n        \"min\": 20.19309581625672,\n        \"max\": 79.96482354623998,\n        \"num_unique_values\": 1000,\n        \"samples\": [\n          76.06616160833086,\n          31.677350709245903,\n          69.65227373401245\n        ],\n        \"semantic_type\": \"\",\n        \"description\": \"\"\n      }\n    },\n    {\n      \"column\": \"wind_speed\",\n      \"properties\": {\n        \"dtype\": \"number\",\n        \"std\": 5.813483909940957,\n        \"min\": 0.0002326951073228,\n        \"max\": 19.956417113639564,\n        \"num_unique_values\": 1000,\n        \"samples\": [\n          2.688702588162437,\n          10.889646656005258,\n          7.313614965227426\n        ],\n        \"semantic_type\": \"\",\n        \"description\": \"\"\n      }\n    },\n    {\n      \"column\": \"solar_irradiance\",\n      \"properties\": {\n        \"dtype\": \"number\",\n        \"std\": 257.84040991679575,\n        \"min\": 100.5880516851696,\n        \"max\": 999.6019329253947,\n        \"num_unique_values\": 1000,\n        \"samples\": [\n          522.1964899428208,\n          776.0594232586385,\n          913.9237974944716\n        ],\n        \"semantic_type\": \"\",\n        \"description\": \"\"\n      }\n    },\n    {\n      \"column\": \"energy_consumption\",\n      \"properties\": {\n        \"dtype\": \"number\",\n        \"std\": 129.064474493042,\n        \"min\": 50.01382348042209,\n        \"max\": 498.9872250545903,\n        \"num_unique_values\": 1000,\n        \"samples\": [\n          309.7026870745579,\n          206.9743583563836,\n          373.4231509679911\n        ],\n        \"semantic_type\": \"\",\n        \"description\": \"\"\n      }\n    }\n  ]\n}"
            }
          },
          "metadata": {},
          "execution_count": 43
        }
      ],
      "source": [
        "data=pd.read_csv('ec_data.csv')\n",
        "data.head()"
      ]
    },
    {
      "cell_type": "code",
      "execution_count": 44,
      "metadata": {
        "colab": {
          "base_uri": "https://localhost:8080/",
          "height": 241
        },
        "id": "1sPo1G8hkE8h",
        "outputId": "48c1160b-e45d-47ad-cad0-d6772c480a88"
      },
      "outputs": [
        {
          "output_type": "execute_result",
          "data": {
            "text/plain": [
              "temperature           0\n",
              "humidity              0\n",
              "wind_speed            0\n",
              "solar_irradiance      0\n",
              "energy_consumption    0\n",
              "dtype: int64"
            ],
            "text/html": [
              "<div>\n",
              "<style scoped>\n",
              "    .dataframe tbody tr th:only-of-type {\n",
              "        vertical-align: middle;\n",
              "    }\n",
              "\n",
              "    .dataframe tbody tr th {\n",
              "        vertical-align: top;\n",
              "    }\n",
              "\n",
              "    .dataframe thead th {\n",
              "        text-align: right;\n",
              "    }\n",
              "</style>\n",
              "<table border=\"1\" class=\"dataframe\">\n",
              "  <thead>\n",
              "    <tr style=\"text-align: right;\">\n",
              "      <th></th>\n",
              "      <th>0</th>\n",
              "    </tr>\n",
              "  </thead>\n",
              "  <tbody>\n",
              "    <tr>\n",
              "      <th>temperature</th>\n",
              "      <td>0</td>\n",
              "    </tr>\n",
              "    <tr>\n",
              "      <th>humidity</th>\n",
              "      <td>0</td>\n",
              "    </tr>\n",
              "    <tr>\n",
              "      <th>wind_speed</th>\n",
              "      <td>0</td>\n",
              "    </tr>\n",
              "    <tr>\n",
              "      <th>solar_irradiance</th>\n",
              "      <td>0</td>\n",
              "    </tr>\n",
              "    <tr>\n",
              "      <th>energy_consumption</th>\n",
              "      <td>0</td>\n",
              "    </tr>\n",
              "  </tbody>\n",
              "</table>\n",
              "</div><br><label><b>dtype:</b> int64</label>"
            ]
          },
          "metadata": {},
          "execution_count": 44
        }
      ],
      "source": [
        "data.isnull().sum()"
      ]
    },
    {
      "cell_type": "code",
      "execution_count": 45,
      "metadata": {
        "id": "LO9OnP-4opF7"
      },
      "outputs": [],
      "source": [
        "X=data[['temperature','humidity','wind_speed','solar_irradiance']].values\n",
        "Y=data[['energy_consumption']].values"
      ]
    },
    {
      "cell_type": "code",
      "execution_count": 46,
      "metadata": {
        "id": "nPInrxOypVa3"
      },
      "outputs": [],
      "source": [
        "X_train, X_test, Y_train, Y_test = train_test_split(X, Y, test_size=0.2,random_state=42)"
      ]
    },
    {
      "cell_type": "code",
      "execution_count": 47,
      "metadata": {
        "id": "ho3ibHvppVdM"
      },
      "outputs": [],
      "source": [
        "scaler= StandardScaler()\n",
        "X_train=scaler.fit_transform(X_train)\n",
        "X_test=scaler.fit_transform(X_test)"
      ]
    },
    {
      "cell_type": "code",
      "execution_count": 48,
      "metadata": {
        "colab": {
          "base_uri": "https://localhost:8080/"
        },
        "id": "9bTMfJHbpVes",
        "outputId": "f6201faa-68f4-4413-8435-87f04eb8d92e"
      },
      "outputs": [
        {
          "output_type": "stream",
          "name": "stderr",
          "text": [
            "/usr/local/lib/python3.11/dist-packages/keras/src/layers/core/dense.py:87: UserWarning: Do not pass an `input_shape`/`input_dim` argument to a layer. When using Sequential models, prefer using an `Input(shape)` object as the first layer in the model instead.\n",
            "  super().__init__(activity_regularizer=activity_regularizer, **kwargs)\n"
          ]
        }
      ],
      "source": [
        "model = Sequential([\n",
        "    Dense(64, activation='relu', input_shape=(X_train.shape[1],)),  # Input layer with 64 neurons\n",
        "    Dense(32, activation='relu'),# Hidden layer with 32 neurons\n",
        "    Dense(1)  # Output layer for regression (1 neuron)\n",
        "])"
      ]
    },
    {
      "cell_type": "code",
      "execution_count": 49,
      "metadata": {
        "id": "yLrZpuw7pViK"
      },
      "outputs": [],
      "source": [
        "model.compile(optimizer='adam',loss='mse',metrics=['accuracy'])"
      ]
    },
    {
      "cell_type": "code",
      "execution_count": 50,
      "metadata": {
        "colab": {
          "base_uri": "https://localhost:8080/"
        },
        "id": "TGMlnqVLtfid",
        "outputId": "ce6620f2-b20d-45ae-f988-16ae708a92b6"
      },
      "outputs": [
        {
          "output_type": "stream",
          "name": "stdout",
          "text": [
            "Epoch 1/10\n",
            "\u001b[1m13/13\u001b[0m \u001b[32m━━━━━━━━━━━━━━━━━━━━\u001b[0m\u001b[37m\u001b[0m \u001b[1m2s\u001b[0m 20ms/step - accuracy: 0.0000e+00 - loss: 85035.7344 - val_accuracy: 0.0000e+00 - val_loss: 91590.5781\n",
            "Epoch 2/10\n",
            "\u001b[1m13/13\u001b[0m \u001b[32m━━━━━━━━━━━━━━━━━━━━\u001b[0m\u001b[37m\u001b[0m \u001b[1m0s\u001b[0m 5ms/step - accuracy: 0.0000e+00 - loss: 87833.1328 - val_accuracy: 0.0000e+00 - val_loss: 91184.1406\n",
            "Epoch 3/10\n",
            "\u001b[1m13/13\u001b[0m \u001b[32m━━━━━━━━━━━━━━━━━━━━\u001b[0m\u001b[37m\u001b[0m \u001b[1m0s\u001b[0m 5ms/step - accuracy: 0.0000e+00 - loss: 82003.7188 - val_accuracy: 0.0000e+00 - val_loss: 90638.1484\n",
            "Epoch 4/10\n",
            "\u001b[1m13/13\u001b[0m \u001b[32m━━━━━━━━━━━━━━━━━━━━\u001b[0m\u001b[37m\u001b[0m \u001b[1m0s\u001b[0m 5ms/step - accuracy: 0.0000e+00 - loss: 85335.2266 - val_accuracy: 0.0000e+00 - val_loss: 89882.4219\n",
            "Epoch 5/10\n",
            "\u001b[1m13/13\u001b[0m \u001b[32m━━━━━━━━━━━━━━━━━━━━\u001b[0m\u001b[37m\u001b[0m \u001b[1m0s\u001b[0m 5ms/step - accuracy: 0.0000e+00 - loss: 83032.2578 - val_accuracy: 0.0000e+00 - val_loss: 88843.2969\n",
            "Epoch 6/10\n",
            "\u001b[1m13/13\u001b[0m \u001b[32m━━━━━━━━━━━━━━━━━━━━\u001b[0m\u001b[37m\u001b[0m \u001b[1m0s\u001b[0m 5ms/step - accuracy: 0.0000e+00 - loss: 82496.0312 - val_accuracy: 0.0000e+00 - val_loss: 87481.4609\n",
            "Epoch 7/10\n",
            "\u001b[1m13/13\u001b[0m \u001b[32m━━━━━━━━━━━━━━━━━━━━\u001b[0m\u001b[37m\u001b[0m \u001b[1m0s\u001b[0m 5ms/step - accuracy: 0.0000e+00 - loss: 80108.9922 - val_accuracy: 0.0000e+00 - val_loss: 85715.6875\n",
            "Epoch 8/10\n",
            "\u001b[1m13/13\u001b[0m \u001b[32m━━━━━━━━━━━━━━━━━━━━\u001b[0m\u001b[37m\u001b[0m \u001b[1m0s\u001b[0m 5ms/step - accuracy: 0.0000e+00 - loss: 78427.1562 - val_accuracy: 0.0000e+00 - val_loss: 83509.5078\n",
            "Epoch 9/10\n",
            "\u001b[1m13/13\u001b[0m \u001b[32m━━━━━━━━━━━━━━━━━━━━\u001b[0m\u001b[37m\u001b[0m \u001b[1m0s\u001b[0m 5ms/step - accuracy: 0.0000e+00 - loss: 75793.8125 - val_accuracy: 0.0000e+00 - val_loss: 80854.8594\n",
            "Epoch 10/10\n",
            "\u001b[1m13/13\u001b[0m \u001b[32m━━━━━━━━━━━━━━━━━━━━\u001b[0m\u001b[37m\u001b[0m \u001b[1m0s\u001b[0m 5ms/step - accuracy: 0.0000e+00 - loss: 72654.5312 - val_accuracy: 0.0000e+00 - val_loss: 77695.4766\n"
          ]
        }
      ],
      "source": [
        "history=model.fit(X_train, Y_train, epochs=10, batch_size=32,validation_split=0.5,verbose=1) #epoch is times jitni baar train hoga amd verbose is iteration"
      ]
    },
    {
      "cell_type": "code",
      "execution_count": 51,
      "metadata": {
        "colab": {
          "base_uri": "https://localhost:8080/"
        },
        "id": "i-ewlAT4tfl0",
        "outputId": "252430ae-9c28-4fdc-91cb-45ef36a5ca09"
      },
      "outputs": [
        {
          "output_type": "stream",
          "name": "stdout",
          "text": [
            "\u001b[1m7/7\u001b[0m \u001b[32m━━━━━━━━━━━━━━━━━━━━\u001b[0m\u001b[37m\u001b[0m \u001b[1m0s\u001b[0m 2ms/step - accuracy: 0.0000e+00 - loss: 83811.8672 \n",
            "Test Mean Absolute Error: 0.00\n"
          ]
        }
      ],
      "source": [
        "test_loss, test_mae = model.evaluate(X_test, Y_test, verbose=1)\n",
        "print(f\"Test Mean Absolute Error: {test_mae:.2f}\")"
      ]
    },
    {
      "cell_type": "code",
      "execution_count": 52,
      "metadata": {
        "colab": {
          "base_uri": "https://localhost:8080/",
          "height": 472
        },
        "id": "-0L8qdFDtfqI",
        "outputId": "1f9137f9-7039-4ae7-baa0-6888181ad0ac"
      },
      "outputs": [
        {
          "output_type": "display_data",
          "data": {
            "text/plain": [
              "<Figure size 640x480 with 1 Axes>"
            ],
            "image/png": "[encoded data removed]"
          },
          "metadata": {}
        }
      ],
      "source": [
        "plt.plot(history.history['loss'], label='Training Loss')\n",
        "plt.plot(history.history['val_loss'], label='Validation Loss')\n",
        "plt.xlabel('Epochs')\n",
        "plt.ylabel('Loss')\n",
        "plt.title('Model Training Performance')\n",
        "plt.legend()\n",
        "plt.show()"
      ]
    },
    {
      "cell_type": "code",
      "execution_count": 53,
      "metadata": {
        "colab": {
          "base_uri": "https://localhost:8080/"
        },
        "collapsed": true,
        "id": "kpWCPUnQtfsa",
        "outputId": "0aeb89ca-bf0b-4eef-f1bc-c1159167287a"
      },
      "outputs": [
        {
          "output_type": "stream",
          "name": "stderr",
          "text": [
            "WARNING:tensorflow:5 out of the last 15 calls to <function TensorFlowTrainer.make_predict_function.<locals>.one_step_on_data_distributed at 0x7c9a0bae2700> triggered tf.function retracing. Tracing is expensive and the excessive number of tracings could be due to (1) creating @tf.function repeatedly in a loop, (2) passing tensors with different shapes, (3) passing Python objects instead of tensors. For (1), please define your @tf.function outside of the loop. For (2), @tf.function has reduce_retracing=True option that can avoid unnecessary retracing. For (3), please refer to https://www.tensorflow.org/guide/function#controlling_retracing and https://www.tensorflow.org/api_docs/python/tf/function for  more details.\n"
          ]
        },
        {
          "output_type": "stream",
          "name": "stdout",
          "text": [
            "\u001b[1m7/7\u001b[0m \u001b[32m━━━━━━━━━━━━━━━━━━━━\u001b[0m\u001b[37m\u001b[0m \u001b[1m0s\u001b[0m 7ms/step \n"
          ]
        },
        {
          "output_type": "execute_result",
          "data": {
            "text/plain": [
              "array([[26.59635 ],\n",
              "       [22.422838],\n",
              "       [22.51706 ],\n",
              "       [17.334528],\n",
              "       [35.651142],\n",
              "       [28.100725],\n",
              "       [34.365116],\n",
              "       [27.337332],\n",
              "       [28.786509],\n",
              "       [24.35992 ],\n",
              "       [23.988546],\n",
              "       [22.205488],\n",
              "       [29.045137],\n",
              "       [25.25323 ],\n",
              "       [44.161076],\n",
              "       [30.623167],\n",
              "       [23.210314],\n",
              "       [31.913519],\n",
              "       [27.457308],\n",
              "       [23.803724],\n",
              "       [22.22002 ],\n",
              "       [27.823034],\n",
              "       [38.027676],\n",
              "       [31.971838],\n",
              "       [29.783907],\n",
              "       [24.607855],\n",
              "       [24.729376],\n",
              "       [29.399906],\n",
              "       [29.278559],\n",
              "       [24.942854],\n",
              "       [24.645975],\n",
              "       [36.331165],\n",
              "       [42.560673],\n",
              "       [27.466122],\n",
              "       [39.415367],\n",
              "       [29.197897],\n",
              "       [20.298716],\n",
              "       [25.540976],\n",
              "       [42.519604],\n",
              "       [23.234259],\n",
              "       [29.20024 ],\n",
              "       [22.03289 ],\n",
              "       [28.955042],\n",
              "       [33.710316],\n",
              "       [27.541258],\n",
              "       [24.500912],\n",
              "       [24.009169],\n",
              "       [22.984118],\n",
              "       [28.606157],\n",
              "       [28.838255],\n",
              "       [18.612738],\n",
              "       [25.560154],\n",
              "       [27.658213],\n",
              "       [15.675505],\n",
              "       [29.569273],\n",
              "       [30.668715],\n",
              "       [21.891054],\n",
              "       [29.945513],\n",
              "       [30.304655],\n",
              "       [32.296925],\n",
              "       [22.259836],\n",
              "       [28.999128],\n",
              "       [38.40286 ],\n",
              "       [37.39079 ],\n",
              "       [35.54887 ],\n",
              "       [22.328432],\n",
              "       [30.661692],\n",
              "       [32.709255],\n",
              "       [23.243845],\n",
              "       [23.07543 ],\n",
              "       [37.67133 ],\n",
              "       [24.821753],\n",
              "       [33.082478],\n",
              "       [22.63957 ],\n",
              "       [22.719387],\n",
              "       [29.572124],\n",
              "       [18.254221],\n",
              "       [17.105219],\n",
              "       [35.629875],\n",
              "       [33.830677],\n",
              "       [23.039312],\n",
              "       [37.3738  ],\n",
              "       [22.717073],\n",
              "       [26.045408],\n",
              "       [25.677538],\n",
              "       [27.704838],\n",
              "       [28.38748 ],\n",
              "       [26.741352],\n",
              "       [17.68524 ],\n",
              "       [24.783598],\n",
              "       [39.843395],\n",
              "       [28.116726],\n",
              "       [28.15087 ],\n",
              "       [24.744055],\n",
              "       [18.746717],\n",
              "       [33.049088],\n",
              "       [30.818438],\n",
              "       [30.816107],\n",
              "       [15.646936],\n",
              "       [30.428762],\n",
              "       [30.008678],\n",
              "       [29.479597],\n",
              "       [38.3405  ],\n",
              "       [24.94687 ],\n",
              "       [21.909416],\n",
              "       [27.91448 ],\n",
              "       [32.858852],\n",
              "       [34.487022],\n",
              "       [34.124454],\n",
              "       [30.31732 ],\n",
              "       [32.83233 ],\n",
              "       [22.773214],\n",
              "       [32.687084],\n",
              "       [19.846998],\n",
              "       [22.18801 ],\n",
              "       [28.541716],\n",
              "       [28.643858],\n",
              "       [34.44752 ],\n",
              "       [27.37701 ],\n",
              "       [31.266989],\n",
              "       [25.965734],\n",
              "       [29.655973],\n",
              "       [14.184819],\n",
              "       [30.35017 ],\n",
              "       [28.98527 ],\n",
              "       [22.045519],\n",
              "       [18.77068 ],\n",
              "       [25.686777],\n",
              "       [29.926497],\n",
              "       [31.046627],\n",
              "       [31.640875],\n",
              "       [27.896517],\n",
              "       [36.05071 ],\n",
              "       [35.663483],\n",
              "       [31.660866],\n",
              "       [26.12818 ],\n",
              "       [31.47839 ],\n",
              "       [32.59872 ],\n",
              "       [21.580612],\n",
              "       [36.986202],\n",
              "       [31.843962],\n",
              "       [34.54478 ],\n",
              "       [30.409473],\n",
              "       [25.467852],\n",
              "       [24.4348  ],\n",
              "       [21.032806],\n",
              "       [24.885653],\n",
              "       [36.85216 ],\n",
              "       [21.523996],\n",
              "       [35.677105],\n",
              "       [21.983484],\n",
              "       [26.297487],\n",
              "       [28.42351 ],\n",
              "       [36.178173],\n",
              "       [19.763617],\n",
              "       [23.347418],\n",
              "       [24.099985],\n",
              "       [19.570784],\n",
              "       [27.425909],\n",
              "       [26.024534],\n",
              "       [21.54793 ],\n",
              "       [23.385145],\n",
              "       [22.94673 ],\n",
              "       [27.95489 ],\n",
              "       [25.185158],\n",
              "       [44.906017],\n",
              "       [21.303347],\n",
              "       [35.071262],\n",
              "       [35.00971 ],\n",
              "       [22.112467],\n",
              "       [24.08811 ],\n",
              "       [23.951283],\n",
              "       [24.631132],\n",
              "       [27.037886],\n",
              "       [31.834646],\n",
              "       [21.004766],\n",
              "       [35.72218 ],\n",
              "       [26.515432],\n",
              "       [27.750635],\n",
              "       [22.000448],\n",
              "       [14.910587],\n",
              "       [33.009655],\n",
              "       [41.914455],\n",
              "       [21.518064],\n",
              "       [16.645687],\n",
              "       [20.953987],\n",
              "       [30.209593],\n",
              "       [23.67204 ],\n",
              "       [27.575407],\n",
              "       [23.328257],\n",
              "       [28.81236 ],\n",
              "       [26.625868],\n",
              "       [30.90978 ],\n",
              "       [24.399063],\n",
              "       [33.84785 ],\n",
              "       [35.15327 ],\n",
              "       [41.226685],\n",
              "       [30.693142],\n",
              "       [29.84279 ],\n",
              "       [41.551907]], dtype=float32)"
            ]
          },
          "metadata": {},
          "execution_count": 53
        }
      ],
      "source": [
        "predictions = model.predict(X_test)\n",
        "predictions"
      ]
    },
    {
      "cell_type": "code",
      "execution_count": 54,
      "metadata": {
        "colab": {
          "base_uri": "https://localhost:8080/",
          "height": 472
        },
        "id": "1MAlSGBNtfuZ",
        "outputId": "83e3ef44-127f-43d1-f5b5-c1269219c293"
      },
      "outputs": [
        {
          "output_type": "display_data",
          "data": {
            "text/plain": [
              "<Figure size 640x480 with 1 Axes>"
            ],
            "image/png": "[encoded data removed]"
          },
          "metadata": {}
        }
      ],
      "source": [
        "plt.scatter(Y_test, predictions)\n",
        "plt.xlabel('True Energy Consumption')\n",
        "plt.ylabel('Predicted Energy Consumption')\n",
        "plt.title('Predictions vs True Values')\n",
        "plt.show()"
      ]
    },
    {
      "cell_type": "code",
      "execution_count": 54,
      "metadata": {
        "id": "kE0aM6DKtfwi"
      },
      "outputs": [],
      "source": []
    },
    {
      "cell_type": "code",
      "execution_count": 54,
      "metadata": {
        "id": "g3KC3a2btfyS"
      },
      "outputs": [],
      "source": []
    },
    {
      "cell_type": "code",
      "execution_count": 54,
      "metadata": {
        "id": "R5msW3DWtfz3"
      },
      "outputs": [],
      "source": []
    },
    {
      "cell_type": "code",
      "execution_count": 54,
      "metadata": {
        "id": "zJK71VNztf2C"
      },
      "outputs": [],
      "source": []
    },
    {
      "cell_type": "code",
      "execution_count": 54,
      "metadata": {
        "id": "dCGDE_a8tf5Y"
      },
      "outputs": [],
      "source": []
    }
  ],
  "metadata": {
    "colab": {
      "provenance": []
    },
    "kernelspec": {
      "display_name": "Python 3",
      "name": "python3"
    },
    "language_info": {
      "name": "python"
    }
  },
  "nbformat": 4,
  "nbformat_minor": 0
}